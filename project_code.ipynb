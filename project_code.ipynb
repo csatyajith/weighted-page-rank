{
 "cells": [
  {
   "cell_type": "code",
   "execution_count": 1,
   "metadata": {},
   "outputs": [],
   "source": [
    "import numpy as np\n",
    "from scipy import sparse"
   ]
  },
  {
   "cell_type": "code",
   "execution_count": 2,
   "metadata": {},
   "outputs": [],
   "source": [
    "tol_var = 10**-10"
   ]
  },
  {
   "cell_type": "code",
   "execution_count": 3,
   "metadata": {},
   "outputs": [],
   "source": [
    "# Function for power iteration taking matrices as input\n",
    "def power_iteration(s_matrix):\n",
    "    one_vec = np.ones((tot_num_of_nodes,1))\n",
    "    counter = 0\n",
    "    # initialise the r_0\n",
    "    r_var = 1/ float(tot_num_of_nodes) * one_vec\n",
    "    while True:\n",
    "        temp_1 = (1-0.8)/tot_num_of_nodes\n",
    "        temp_2 = 0.8 * s_matrix.dot(r_var)\n",
    "        r_new_var = temp_1 * one_vec + temp_2\n",
    "        L_1_Norm = np.linalg.norm(abs(r_new_var - r_var), ord=1)\n",
    "        if L_1_Norm < tol_var:\n",
    "            break\n",
    "        \n",
    "        r_var = r_new_var\n",
    "        counter = counter + 1\n",
    "    \n",
    "    print(\"For tolerance - \",tol_var,\"Total number of iterations for power iteration it took is :- \", counter)\n",
    "    print(\"\\n\")\n",
    "    return r_var"
   ]
  },
  {
   "cell_type": "code",
   "execution_count": 10,
   "metadata": {},
   "outputs": [],
   "source": [
    "def getTopK(k_top,r):\n",
    "    # Top k page ranks with values\n",
    "    k_top_Pages_id = r.T[0].argsort()[-k_top:][::-1]\n",
    "    k_top_Page_list = []\n",
    "    for ind in k_top_Pages_id:\n",
    "        k_top_Page_list.append((r[ind][0], ind+1))\n",
    "    \n",
    "    # Printing top k nodes with scores\n",
    "    print(\"Top {} nodes\".format(k_top))\n",
    "    for pr in enumerate(k_top_Page_list):\n",
    "        (ind, (pRVal, nodeId)) = pr\n",
    "        print(\"Page rank \", ind+1, \"for page id \",nodeId+1,\"with value is - \", pRVal)\n",
    "\n",
    "    print(\"\\n\\n\")"
   ]
  },
  {
   "cell_type": "code",
   "execution_count": 11,
   "metadata": {},
   "outputs": [],
   "source": [
    "def getBottomK(k_bottom,r):\n",
    "    # Bottom 5 page ranks with values\n",
    "    k_bottom_Pages_id = r.T[0].argsort()[:k_bottom]\n",
    "    k_bottom_Page_list = []\n",
    "    for ind in k_bottom_Pages_id:\n",
    "        k_bottom_Page_list.append((r[ind][0], ind+1))\n",
    "    print(\"Bottom {} nodes\".format(k_bottom))\n",
    "    for pr in enumerate(k_bottom_Page_list):\n",
    "        (ind, (pRVal, nodeId)) = pr\n",
    "        print(\"Weighted page rank value\", ind+1, \"for page id \",nodeId+1,\"is - \", pRVal)\n",
    "    \n",
    "    print(\"\\n\\n\")"
   ]
  },
  {
   "cell_type": "code",
   "execution_count": 6,
   "metadata": {},
   "outputs": [
    {
     "name": "stdout",
     "output_type": "stream",
     "text": [
      "Total number of nodes being used are  108658\n"
     ]
    }
   ],
   "source": [
    "# Code to get graph data as graph edges.\n",
    "edges_of_graph = dict()\n",
    "\n",
    "with open(\"page_rank/parent_child_file.txt\") as file:\n",
    "    line = file.readline()\n",
    "    while line:\n",
    "        line_list = []\n",
    "        for node in line.strip().split(\" \"):\n",
    "            line_list.append(int(node))\n",
    "        if len(set(line_list)) != 1:\n",
    "            if edges_of_graph.get(line_list[0]):\n",
    "                edges_of_graph[line_list[0]].add(line_list[1])\n",
    "            else:\n",
    "                edges_of_graph[line_list[0]] = {line_list[1]}\n",
    "        line = file.readline()\n",
    "\n",
    "#print(edges_of_graph)\n",
    "tot_num_of_nodes = max(sorted(edges_of_graph.keys(), reverse=True)[:1][0],\n",
    "                       sorted(edges_of_graph.keys(), reverse=True)[:1][0])\n",
    "print(\"Total number of nodes being used are \", tot_num_of_nodes)"
   ]
  },
  {
   "cell_type": "code",
   "execution_count": 7,
   "metadata": {},
   "outputs": [
    {
     "name": "stdout",
     "output_type": "stream",
     "text": [
      "-----------------------Weighted Sparse Matrix------------------------\n",
      "  (1, 0)\t0.007524858908895459\n",
      "  (2, 0)\t0.007524858908895459\n",
      "  (3, 0)\t0.007524858908895459\n",
      "  (4, 0)\t0.007524858908895459\n",
      "  (5, 0)\t0.007524858908895459\n",
      "  (6, 0)\t0.007524858908895459\n",
      "  (7, 0)\t0.011287288363343188\n",
      "  (8, 0)\t0.007524858908895459\n",
      "  (9, 0)\t0.007524858908895459\n",
      "  (10, 0)\t0.007524858908895459\n",
      "  (11, 0)\t0.007524858908895459\n",
      "  (12, 0)\t0.00806234883095942\n",
      "  (13, 0)\t0.007524858908895459\n",
      "  (14, 0)\t0.007524858908895459\n",
      "  (15, 0)\t0.007524858908895459\n",
      "  (16, 0)\t0.007524858908895459\n",
      "  (17, 0)\t0.007524858908895459\n",
      "  (18, 0)\t0.007524858908895459\n",
      "  (19, 0)\t0.007524858908895459\n",
      "  (20, 0)\t0.007524858908895459\n",
      "  (21, 0)\t0.007524858908895459\n",
      "  (22, 0)\t0.007524858908895459\n",
      "  (23, 0)\t0.007524858908895459\n",
      "  (24, 0)\t0.007524858908895459\n",
      "  (25, 0)\t0.007524858908895459\n",
      "  :\t:\n",
      "  (108632, 108608)\t0.0\n",
      "  (108633, 108657)\t0.9583333333333334\n",
      "  (108634, 108633)\t0.0\n",
      "  (108635, 108633)\t0.0\n",
      "  (108636, 108633)\t0.0\n",
      "  (108637, 108633)\t0.0\n",
      "  (108638, 108633)\t0.0\n",
      "  (108639, 108633)\t0.0\n",
      "  (108640, 108633)\t0.0\n",
      "  (108641, 108633)\t0.0\n",
      "  (108642, 108633)\t0.0\n",
      "  (108643, 108633)\t0.0\n",
      "  (108644, 108633)\t0.0\n",
      "  (108645, 108633)\t0.0\n",
      "  (108646, 108633)\t0.0\n",
      "  (108647, 108633)\t0.0\n",
      "  (108648, 108633)\t0.0\n",
      "  (108649, 108633)\t0.0\n",
      "  (108650, 108633)\t0.0\n",
      "  (108651, 108633)\t0.0\n",
      "  (108652, 108633)\t0.0\n",
      "  (108653, 108633)\t0.0\n",
      "  (108654, 108633)\t0.0\n",
      "  (108655, 108633)\t0.0\n",
      "  (108656, 108633)\t0.0\n"
     ]
    }
   ],
   "source": [
    "# code to get weighted sparse matrix from graph\n",
    "row_list = []\n",
    "col_list = []\n",
    "data_list = []\n",
    "\n",
    "for node in edges_of_graph.keys():\n",
    "    node_vals = edges_of_graph.get(node)\n",
    "    node_cnt = len(node_vals)\n",
    "    each_n_val = 1 / node_cnt\n",
    "    \n",
    "    values_dict = dict()\n",
    "    for value in node_vals:\n",
    "        if values_dict.get(value):\n",
    "            values_dict[value] = values_dict.get(value) + 1\n",
    "        else:\n",
    "            values_dict[value] = 1\n",
    "    for n_val in list(set(node_vals)):\n",
    "        cnt = values_dict.get(n_val)\n",
    "        data_list.append(cnt)\n",
    "        row_list.append(n_val-1)\n",
    "        col_list.append(node-1)\n",
    "        \n",
    "matrix = sparse.csr_matrix((data_list, (row_list, col_list)), shape=(tot_num_of_nodes, tot_num_of_nodes))\n",
    "\n",
    "r_list = []\n",
    "c_list = []\n",
    "data_list = []\n",
    "r_sum = matrix.sum(axis=1).T.tolist()[0]\n",
    "c_sum = matrix.sum(axis=0).tolist()[0]\n",
    "\n",
    "for node in edges_of_graph.keys():\n",
    "    node_vals = edges_of_graph.get(node)\n",
    "    \n",
    "    n_sum_in = 0\n",
    "    for n_val in list(set(node_vals)):\n",
    "        n_sum_in = n_sum_in + r_sum[n_val-1]\n",
    "        \n",
    "    n_sum_out = 0\n",
    "    for n_val in list(set(node_vals)):\n",
    "        n_sum_out = n_sum_in + c_sum[n_val-1]\n",
    "        \n",
    "    for n_val in list(set(node_vals)):\n",
    "        n_in_c = r_sum[n_val-1]\n",
    "        w_in = float(n_in_c/n_sum_in)\n",
    "        n_out_c = c_sum[n_val-1]\n",
    "        w_out =float(n_out_c/n_sum_out)\n",
    "        r_list.append(n_val-1)\n",
    "        c_list.append(node-1)\n",
    "        weight = w_in * w_out\n",
    "        data_list.append(weight)\n",
    "    \n",
    "Weighted_Sparse_Matrix = sparse.csr_matrix((data_list, (r_list, c_list)), shape=(tot_num_of_nodes, tot_num_of_nodes))\n",
    "print(\"-----------------------Weighted Sparse Matrix------------------------\")\n",
    "print(Weighted_Sparse_Matrix)\n"
   ]
  },
  {
   "cell_type": "code",
   "execution_count": 12,
   "metadata": {
    "pycharm": {
     "name": "#%%\n"
    }
   },
   "outputs": [
    {
     "name": "stdout",
     "output_type": "stream",
     "text": [
      "For tolerance -  1e-10 Total number of iterations for power iteration it took is :-  3\n",
      "\n",
      "\n",
      "weighted page rank with power iteration :- \n",
      "Top 10 nodes\n",
      "Page rank  1 for page id  108635 with value is -  3.2517930877922773e-06\n",
      "Page rank  2 for page id  103571 with value is -  2.5202576326285576e-06\n",
      "Page rank  3 for page id  1329 with value is -  2.322396314818146e-06\n",
      "Page rank  4 for page id  75430 with value is -  2.15113725270977e-06\n",
      "Page rank  5 for page id  62696 with value is -  2.0842002278284846e-06\n",
      "Page rank  6 for page id  1357 with value is -  1.890483694677975e-06\n",
      "Page rank  7 for page id  15617 with value is -  1.880132123692529e-06\n",
      "Page rank  8 for page id  1358 with value is -  1.8795949681100727e-06\n",
      "Page rank  9 for page id  25892 with value is -  1.8755128355409677e-06\n",
      "Page rank  10 for page id  1361 with value is -  1.8729286630167052e-06\n",
      "\n",
      "\n",
      "\n",
      "Bottom 10 nodes\n",
      "Weighted page rank value 1 for page id  2 is -  1.840637596863553e-06\n",
      "Weighted page rank value 2 for page id  72445 is -  1.840637596863553e-06\n",
      "Weighted page rank value 3 for page id  72444 is -  1.840637596863553e-06\n",
      "Weighted page rank value 4 for page id  72443 is -  1.840637596863553e-06\n",
      "Weighted page rank value 5 for page id  72442 is -  1.840637596863553e-06\n",
      "Weighted page rank value 6 for page id  72441 is -  1.840637596863553e-06\n",
      "Weighted page rank value 7 for page id  72440 is -  1.840637596863553e-06\n",
      "Weighted page rank value 8 for page id  72439 is -  1.840637596863553e-06\n",
      "Weighted page rank value 9 for page id  72438 is -  1.840637596863553e-06\n",
      "Weighted page rank value 10 for page id  72437 is -  1.840637596863553e-06\n",
      "\n",
      "\n",
      "\n"
     ]
    }
   ],
   "source": [
    "# Using weighted page rank and power iteration\n",
    "r = power_iteration(Weighted_Sparse_Matrix)\n",
    "print(\"weighted page rank with power iteration :- \")\n",
    "getTopK(10, r)\n",
    "getBottomK(10, r)\n"
   ]
  }
 ],
 "metadata": {
  "kernelspec": {
   "display_name": "Python 3",
   "language": "python",
   "name": "python3"
  },
  "language_info": {
   "codemirror_mode": {
    "name": "ipython",
    "version": 3
   },
   "file_extension": ".py",
   "mimetype": "text/x-python",
   "name": "python",
   "nbconvert_exporter": "python",
   "pygments_lexer": "ipython3",
   "version": "3.7.4"
  }
 },
 "nbformat": 4,
 "nbformat_minor": 2
}